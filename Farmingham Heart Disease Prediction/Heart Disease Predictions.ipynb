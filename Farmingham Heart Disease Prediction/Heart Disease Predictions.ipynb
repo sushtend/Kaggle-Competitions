{
 "cells": [
  {
   "cell_type": "code",
   "execution_count": null,
   "metadata": {},
   "outputs": [],
   "source": []
  },
  {
   "cell_type": "markdown",
   "metadata": {},
   "source": [
    "# Steps"
   ]
  },
  {
   "cell_type": "markdown",
   "metadata": {},
   "source": [
    " 1. Simple model\n",
    " 2. Eliminate Features\n",
    "         2.1 Handle Imbalance Data\n",
    " 3. Select K Best Features\n",
    "         3.1 Scale the Features\n",
    "            3.1.1 Scale & Handle Imbalance\n",
    "             3.1.2 Different Solvers"
   ]
  },
  {
   "cell_type": "code",
   "execution_count": 284,
   "metadata": {},
   "outputs": [],
   "source": [
    "import pandas as pd\n",
    "import numpy as np\n",
    "import matplotlib.pyplot as plt\n",
    "import seaborn as sns\n",
    "import warnings\n",
    "warnings.simplefilter(\"ignore\")"
   ]
  },
  {
   "cell_type": "code",
   "execution_count": 244,
   "metadata": {},
   "outputs": [],
   "source": [
    "from sklearn.linear_model import LogisticRegression\n",
    "from sklearn.svm import SVC\n",
    "#from sklearn.tree import DecisionTreeClassifier\n",
    "from sklearn.neighbors import KNeighborsClassifier\n",
    "\n",
    "\n",
    "from sklearn.feature_selection import RFECV\n",
    "#from imblearn.over_sampling import SMOTE\n",
    "from sklearn.feature_selection import SelectKBest\n",
    "from sklearn.feature_selection import chi2\n",
    "\n",
    "from sklearn.preprocessing import MinMaxScaler\n",
    "\n",
    "from sklearn.model_selection import train_test_split\n",
    "#from sklearn.pipeline import Pipeline\n",
    "from sklearn.metrics import accuracy_score,confusion_matrix,classification_report"
   ]
  },
  {
   "cell_type": "code",
   "execution_count": 349,
   "metadata": {},
   "outputs": [],
   "source": [
    "def model_performance(log_reg,x_train,y_train,x_test,y_test):\n",
    "    \n",
    "    log_reg.fit(x_train,y_train)\n",
    "    y_pred=log_reg.predict(x_test)\n",
    "\n",
    "    \n",
    "    \n",
    "    print(\"-\"*55)\n",
    "    print(f'Accuracy {accuracy_score(y_test,y_pred)}')\n",
    "    print(\"-\"*55)\n",
    "    \n",
    "    print(classification_report(y_test,y_pred))\n",
    "    print(\"-\"*55)\n",
    "    \n",
    "    cm = confusion_matrix(y_test,y_pred)\n",
    "    print('Confusion Matrix')\n",
    "    print(cm)\n",
    "    print(\"-\"*55)\n",
    "    \n",
    "    \n",
    "    TN=cm[0,0]\n",
    "    TP=cm[1,1]\n",
    "    FN=cm[1,0]\n",
    "    FP=cm[0,1]\n",
    "    sensitivity=TP/float(TP+FN)\n",
    "    specificity=TN/float(TN+FP)\n",
    "\n",
    "    print(f'Sensitivity {sensitivity}')\n",
    "    print(f'Specificity {specificity}')\n",
    "    print(\"*\"*55)\n",
    "    \n",
    "    '''conf_matrix=pd.DataFrame(data=cm,columns=['Predicted:0','Predicted:1'],index=['Actual:0','Actual:1'])\n",
    "    plt.figure(figsize = (5,3))\n",
    "    sns.heatmap(conf_matrix, annot=True,fmt='d',cmap=\"BuPu\")'''"
   ]
  },
  {
   "cell_type": "code",
   "execution_count": 298,
   "metadata": {},
   "outputs": [
    {
     "data": {
      "text/html": [
       "<div>\n",
       "<style scoped>\n",
       "    .dataframe tbody tr th:only-of-type {\n",
       "        vertical-align: middle;\n",
       "    }\n",
       "\n",
       "    .dataframe tbody tr th {\n",
       "        vertical-align: top;\n",
       "    }\n",
       "\n",
       "    .dataframe thead th {\n",
       "        text-align: right;\n",
       "    }\n",
       "</style>\n",
       "<table border=\"1\" class=\"dataframe\">\n",
       "  <thead>\n",
       "    <tr style=\"text-align: right;\">\n",
       "      <th></th>\n",
       "      <th>male</th>\n",
       "      <th>age</th>\n",
       "      <th>education</th>\n",
       "      <th>currentSmoker</th>\n",
       "      <th>cigsPerDay</th>\n",
       "      <th>BPMeds</th>\n",
       "      <th>prevalentStroke</th>\n",
       "      <th>prevalentHyp</th>\n",
       "      <th>diabetes</th>\n",
       "      <th>totChol</th>\n",
       "      <th>sysBP</th>\n",
       "      <th>diaBP</th>\n",
       "      <th>BMI</th>\n",
       "      <th>heartRate</th>\n",
       "      <th>glucose</th>\n",
       "      <th>TenYearCHD</th>\n",
       "    </tr>\n",
       "  </thead>\n",
       "  <tbody>\n",
       "    <tr>\n",
       "      <th>0</th>\n",
       "      <td>1</td>\n",
       "      <td>39</td>\n",
       "      <td>4.0</td>\n",
       "      <td>0</td>\n",
       "      <td>0.0</td>\n",
       "      <td>0.0</td>\n",
       "      <td>0</td>\n",
       "      <td>0</td>\n",
       "      <td>0</td>\n",
       "      <td>195.0</td>\n",
       "      <td>106.0</td>\n",
       "      <td>70.0</td>\n",
       "      <td>26.97</td>\n",
       "      <td>80.0</td>\n",
       "      <td>77.0</td>\n",
       "      <td>0</td>\n",
       "    </tr>\n",
       "    <tr>\n",
       "      <th>1</th>\n",
       "      <td>0</td>\n",
       "      <td>46</td>\n",
       "      <td>2.0</td>\n",
       "      <td>0</td>\n",
       "      <td>0.0</td>\n",
       "      <td>0.0</td>\n",
       "      <td>0</td>\n",
       "      <td>0</td>\n",
       "      <td>0</td>\n",
       "      <td>250.0</td>\n",
       "      <td>121.0</td>\n",
       "      <td>81.0</td>\n",
       "      <td>28.73</td>\n",
       "      <td>95.0</td>\n",
       "      <td>76.0</td>\n",
       "      <td>0</td>\n",
       "    </tr>\n",
       "    <tr>\n",
       "      <th>2</th>\n",
       "      <td>1</td>\n",
       "      <td>48</td>\n",
       "      <td>1.0</td>\n",
       "      <td>1</td>\n",
       "      <td>20.0</td>\n",
       "      <td>0.0</td>\n",
       "      <td>0</td>\n",
       "      <td>0</td>\n",
       "      <td>0</td>\n",
       "      <td>245.0</td>\n",
       "      <td>127.5</td>\n",
       "      <td>80.0</td>\n",
       "      <td>25.34</td>\n",
       "      <td>75.0</td>\n",
       "      <td>70.0</td>\n",
       "      <td>0</td>\n",
       "    </tr>\n",
       "    <tr>\n",
       "      <th>3</th>\n",
       "      <td>0</td>\n",
       "      <td>61</td>\n",
       "      <td>3.0</td>\n",
       "      <td>1</td>\n",
       "      <td>30.0</td>\n",
       "      <td>0.0</td>\n",
       "      <td>0</td>\n",
       "      <td>1</td>\n",
       "      <td>0</td>\n",
       "      <td>225.0</td>\n",
       "      <td>150.0</td>\n",
       "      <td>95.0</td>\n",
       "      <td>28.58</td>\n",
       "      <td>65.0</td>\n",
       "      <td>103.0</td>\n",
       "      <td>1</td>\n",
       "    </tr>\n",
       "    <tr>\n",
       "      <th>4</th>\n",
       "      <td>0</td>\n",
       "      <td>46</td>\n",
       "      <td>3.0</td>\n",
       "      <td>1</td>\n",
       "      <td>23.0</td>\n",
       "      <td>0.0</td>\n",
       "      <td>0</td>\n",
       "      <td>0</td>\n",
       "      <td>0</td>\n",
       "      <td>285.0</td>\n",
       "      <td>130.0</td>\n",
       "      <td>84.0</td>\n",
       "      <td>23.10</td>\n",
       "      <td>85.0</td>\n",
       "      <td>85.0</td>\n",
       "      <td>0</td>\n",
       "    </tr>\n",
       "  </tbody>\n",
       "</table>\n",
       "</div>"
      ],
      "text/plain": [
       "   male  age  education  currentSmoker  cigsPerDay  BPMeds  prevalentStroke  \\\n",
       "0     1   39        4.0              0         0.0     0.0                0   \n",
       "1     0   46        2.0              0         0.0     0.0                0   \n",
       "2     1   48        1.0              1        20.0     0.0                0   \n",
       "3     0   61        3.0              1        30.0     0.0                0   \n",
       "4     0   46        3.0              1        23.0     0.0                0   \n",
       "\n",
       "   prevalentHyp  diabetes  totChol  sysBP  diaBP    BMI  heartRate  glucose  \\\n",
       "0             0         0    195.0  106.0   70.0  26.97       80.0     77.0   \n",
       "1             0         0    250.0  121.0   81.0  28.73       95.0     76.0   \n",
       "2             0         0    245.0  127.5   80.0  25.34       75.0     70.0   \n",
       "3             1         0    225.0  150.0   95.0  28.58       65.0    103.0   \n",
       "4             0         0    285.0  130.0   84.0  23.10       85.0     85.0   \n",
       "\n",
       "   TenYearCHD  \n",
       "0           0  \n",
       "1           0  \n",
       "2           0  \n",
       "3           1  \n",
       "4           0  "
      ]
     },
     "execution_count": 298,
     "metadata": {},
     "output_type": "execute_result"
    }
   ],
   "source": [
    "heart_df=pd.read_csv(\"./framingham.csv\")\n",
    "heart_df.head()"
   ]
  },
  {
   "cell_type": "code",
   "execution_count": 299,
   "metadata": {},
   "outputs": [
    {
     "data": {
      "text/plain": [
       "(4240, 16)"
      ]
     },
     "execution_count": 299,
     "metadata": {},
     "output_type": "execute_result"
    }
   ],
   "source": [
    "heart_df.shape"
   ]
  },
  {
   "cell_type": "code",
   "execution_count": 300,
   "metadata": {},
   "outputs": [],
   "source": [
    "heart_df.drop(['education'],axis=1,inplace=True)"
   ]
  },
  {
   "cell_type": "code",
   "execution_count": 301,
   "metadata": {},
   "outputs": [
    {
     "data": {
      "text/plain": [
       "male                 0\n",
       "age                  0\n",
       "currentSmoker        0\n",
       "cigsPerDay          29\n",
       "BPMeds              53\n",
       "prevalentStroke      0\n",
       "prevalentHyp         0\n",
       "diabetes             0\n",
       "totChol             50\n",
       "sysBP                0\n",
       "diaBP                0\n",
       "BMI                 19\n",
       "heartRate            1\n",
       "glucose            388\n",
       "TenYearCHD           0\n",
       "dtype: int64"
      ]
     },
     "execution_count": 301,
     "metadata": {},
     "output_type": "execute_result"
    }
   ],
   "source": [
    "heart_df.isnull().sum()"
   ]
  },
  {
   "cell_type": "code",
   "execution_count": 302,
   "metadata": {},
   "outputs": [],
   "source": [
    "heart_df.dropna(axis=0,inplace=True)\n",
    "data = heart_df.copy()"
   ]
  },
  {
   "cell_type": "code",
   "execution_count": 303,
   "metadata": {},
   "outputs": [
    {
     "data": {
      "text/plain": [
       "0    3179\n",
       "1     572\n",
       "Name: TenYearCHD, dtype: int64"
      ]
     },
     "execution_count": 303,
     "metadata": {},
     "output_type": "execute_result"
    }
   ],
   "source": [
    "heart_df.TenYearCHD.value_counts()"
   ]
  },
  {
   "cell_type": "code",
   "execution_count": 304,
   "metadata": {},
   "outputs": [],
   "source": [
    "x = heart_df.iloc[:,:-1]\n",
    "y = heart_df.iloc[:,-1:]\n"
   ]
  },
  {
   "cell_type": "code",
   "execution_count": 305,
   "metadata": {},
   "outputs": [],
   "source": [
    "x_train,x_test,y_train,y_test = train_test_split(x,y,test_size=0.2)"
   ]
  },
  {
   "cell_type": "markdown",
   "metadata": {},
   "source": [
    "## 1. Simple Model"
   ]
  },
  {
   "cell_type": "code",
   "execution_count": 307,
   "metadata": {},
   "outputs": [
    {
     "name": "stdout",
     "output_type": "stream",
     "text": [
      "-------------------------------------------------------\n",
      "Accuracy 0.8588548601864181\n",
      "-------------------------------------------------------\n",
      "              precision    recall  f1-score   support\n",
      "\n",
      "           0       0.86      1.00      0.92       643\n",
      "           1       0.75      0.03      0.05       108\n",
      "\n",
      "   micro avg       0.86      0.86      0.86       751\n",
      "   macro avg       0.80      0.51      0.49       751\n",
      "weighted avg       0.84      0.86      0.80       751\n",
      "\n",
      "-------------------------------------------------------\n",
      "Confusion Matrix\n",
      "[[642   1]\n",
      " [105   3]]\n",
      "-------------------------------------------------------\n",
      "Sensitivity 0.027777777777777776\n",
      "Specificity 0.9984447900466563\n",
      "*******************************************************\n"
     ]
    }
   ],
   "source": [
    "log_reg=LogisticRegression()\n",
    "model_performance(log_reg,x_train,y_train,x_test,y_test)"
   ]
  },
  {
   "cell_type": "markdown",
   "metadata": {},
   "source": [
    "## 2. Eliminatng features"
   ]
  },
  {
   "cell_type": "code",
   "execution_count": 308,
   "metadata": {},
   "outputs": [
    {
     "name": "stdout",
     "output_type": "stream",
     "text": [
      "Optimal number of features: 13\n",
      "Selected features: ['male', 'age', 'currentSmoker', 'cigsPerDay', 'BPMeds', 'prevalentStroke', 'prevalentHyp', 'diabetes', 'sysBP', 'diaBP', 'BMI', 'heartRate', 'glucose']\n"
     ]
    }
   ],
   "source": [
    "rfecv = RFECV(estimator=LogisticRegression(), step=1, cv=10, scoring='accuracy')\n",
    "rfecv.fit(x_train, y_train.values.ravel())\n",
    "\n",
    "print(\"Optimal number of features: %d\" % rfecv.n_features_)\n",
    "print('Selected features: %s' % list(x_train.columns[rfecv.support_]))"
   ]
  },
  {
   "cell_type": "code",
   "execution_count": 309,
   "metadata": {},
   "outputs": [
    {
     "data": {
      "image/png": "[encoded data removed]",
      "text/plain": [
       "<Figure size 720x432 with 1 Axes>"
      ]
     },
     "metadata": {
      "needs_background": "light"
     },
     "output_type": "display_data"
    }
   ],
   "source": [
    "plt.figure(figsize=(10,6))\n",
    "plt.xlabel(\"Number of features selected\")\n",
    "plt.ylabel(\"Cross validation score (nb of correct classifications)\")\n",
    "plt.plot(range(1, len(rfecv.grid_scores_) + 1), rfecv.grid_scores_)\n",
    "plt.show()"
   ]
  },
  {
   "cell_type": "code",
   "execution_count": 310,
   "metadata": {},
   "outputs": [],
   "source": [
    "cols=['male', 'age', 'currentSmoker', 'cigsPerDay', 'BPMeds', 'prevalentStroke', 'prevalentHyp', 'diabetes', 'sysBP', 'diaBP', 'heartRate', 'glucose','TenYearCHD']"
   ]
  },
  {
   "cell_type": "code",
   "execution_count": 311,
   "metadata": {
    "scrolled": true
   },
   "outputs": [],
   "source": [
    "#['age','male','cigsPerDay','totChol','sysBP','glucose','TenYearCHD']\n",
    "new_features=heart_df[cols]\n",
    "x=new_features.iloc[:,:-1]\n",
    "y=new_features.iloc[:,-1]\n",
    "x_train,x_test,y_train,y_test=train_test_split(x,y,test_size=.20,random_state=5)"
   ]
  },
  {
   "cell_type": "code",
   "execution_count": 312,
   "metadata": {},
   "outputs": [
    {
     "name": "stdout",
     "output_type": "stream",
     "text": [
      "-------------------------------------------------------\n",
      "Accuracy 0.8801597869507324\n",
      "-------------------------------------------------------\n",
      "              precision    recall  f1-score   support\n",
      "\n",
      "           0       0.88      0.99      0.94       659\n",
      "           1       0.60      0.07      0.12        92\n",
      "\n",
      "   micro avg       0.88      0.88      0.88       751\n",
      "   macro avg       0.74      0.53      0.53       751\n",
      "weighted avg       0.85      0.88      0.84       751\n",
      "\n",
      "-------------------------------------------------------\n",
      "Confusion Matrix\n",
      "[[655   4]\n",
      " [ 86   6]]\n",
      "-------------------------------------------------------\n",
      "Sensitivity 0.06521739130434782\n",
      "Specificity 0.9939301972685888\n",
      "*******************************************************\n"
     ]
    }
   ],
   "source": [
    "log_reg=LogisticRegression()\n",
    "model_performance(log_reg,x_train,y_train,x_test,y_test)"
   ]
  },
  {
   "cell_type": "markdown",
   "metadata": {},
   "source": [
    "## 2.1 Handle Imbalance Data"
   ]
  },
  {
   "cell_type": "code",
   "execution_count": 313,
   "metadata": {},
   "outputs": [
    {
     "data": {
      "text/plain": [
       "0    611\n",
       "1    572\n",
       "Name: TenYearCHD, dtype: int64"
      ]
     },
     "execution_count": 313,
     "metadata": {},
     "output_type": "execute_result"
    }
   ],
   "source": [
    "\n",
    "# Shuffle df\n",
    "shuffled_df = new_features.sample(frac=1,random_state=4)\n",
    "\n",
    "# Put all the fraud class in a separate dataset.\n",
    "CHD_df = shuffled_df.loc[shuffled_df['TenYearCHD'] == 1]\n",
    "\n",
    "non_CHD_df = new_features.loc[new_features['TenYearCHD']==0].sample(n=611,random_state=42)\n",
    "\n",
    "# Concatenate both dataframes again\n",
    "normalized_df = pd.concat([CHD_df, non_CHD_df])\n",
    "\n",
    "# check new class counts\n",
    "normalized_df.TenYearCHD.value_counts()"
   ]
  },
  {
   "cell_type": "code",
   "execution_count": 314,
   "metadata": {},
   "outputs": [
    {
     "data": {
      "text/plain": [
       "<matplotlib.axes._subplots.AxesSubplot at 0x7fdaefa95358>"
      ]
     },
     "execution_count": 314,
     "metadata": {},
     "output_type": "execute_result"
    },
    {
     "data": {
      "image/png": "[encoded data removed]",
      "text/plain": [
       "<Figure size 432x288 with 1 Axes>"
      ]
     },
     "metadata": {
      "needs_background": "light"
     },
     "output_type": "display_data"
    }
   ],
   "source": [
    "sns.countplot(normalized_df.TenYearCHD, palette=\"plasma\")"
   ]
  },
  {
   "cell_type": "code",
   "execution_count": 315,
   "metadata": {},
   "outputs": [],
   "source": [
    "y_train = normalized_df['TenYearCHD']\n",
    "x_train = normalized_df.drop('TenYearCHD', axis=1)"
   ]
  },
  {
   "cell_type": "code",
   "execution_count": 316,
   "metadata": {},
   "outputs": [
    {
     "name": "stdout",
     "output_type": "stream",
     "text": [
      "-------------------------------------------------------\n",
      "Accuracy 0.7070572569906791\n",
      "-------------------------------------------------------\n",
      "              precision    recall  f1-score   support\n",
      "\n",
      "           0       0.93      0.72      0.81       659\n",
      "           1       0.24      0.62      0.34        92\n",
      "\n",
      "   micro avg       0.71      0.71      0.71       751\n",
      "   macro avg       0.58      0.67      0.58       751\n",
      "weighted avg       0.85      0.71      0.75       751\n",
      "\n",
      "-------------------------------------------------------\n",
      "Confusion Matrix\n",
      "[[474 185]\n",
      " [ 35  57]]\n",
      "-------------------------------------------------------\n",
      "Sensitivity 0.6195652173913043\n",
      "Specificity 0.7192716236722306\n",
      "*******************************************************\n"
     ]
    }
   ],
   "source": [
    "log_reg=LogisticRegression()\n",
    "model_performance(log_reg,x_train,y_train,x_test,y_test)"
   ]
  },
  {
   "cell_type": "code",
   "execution_count": null,
   "metadata": {},
   "outputs": [],
   "source": []
  },
  {
   "cell_type": "markdown",
   "metadata": {},
   "source": []
  },
  {
   "cell_type": "code",
   "execution_count": 317,
   "metadata": {},
   "outputs": [
    {
     "name": "stdout",
     "output_type": "stream",
     "text": [
      "The accuracy score of  is: 70.71%\n",
      "-------------------------------------------------------\n",
      "The accuracy score of  is: 96.14%\n",
      "-------------------------------------------------------\n",
      "The accuracy score of  is: 82.56%\n",
      "-------------------------------------------------------\n"
     ]
    }
   ],
   "source": [
    "classifiers = [LogisticRegression(),SVC(),KNeighborsClassifier(2)]\n",
    "for classifier in classifiers:\n",
    "    classifier.fit(x_train, y_train)   \n",
    "    print(\"The accuracy score of  is: {0:.2f}%\".format((classifier.score(x_test, y_test)*100)))\n",
    "    print(\"-\"*55)"
   ]
  },
  {
   "cell_type": "code",
   "execution_count": null,
   "metadata": {},
   "outputs": [],
   "source": []
  },
  {
   "cell_type": "markdown",
   "metadata": {},
   "source": [
    "## 3. Select K best Features"
   ]
  },
  {
   "cell_type": "code",
   "execution_count": 318,
   "metadata": {},
   "outputs": [],
   "source": [
    "X = heart_df.iloc[:,0:14]  #independent columns\n",
    "y = heart_df.iloc[:,-1]    #target column i.e price range\n"
   ]
  },
  {
   "cell_type": "code",
   "execution_count": 319,
   "metadata": {},
   "outputs": [
    {
     "name": "stdout",
     "output_type": "stream",
     "text": [
      "           Specs       Score\n",
      "9          sysBP  667.109932\n",
      "13       glucose  402.409837\n",
      "1            age  297.974980\n",
      "8        totChol  252.958627\n",
      "3     cigsPerDay  185.115196\n",
      "10         diaBP  142.920436\n",
      "6   prevalentHyp   82.342164\n",
      "7       diabetes   31.711253\n",
      "4         BPMeds   26.116583\n",
      "0           male   19.178560\n",
      "11           BMI   17.108210\n"
     ]
    }
   ],
   "source": [
    "# apply SelectKBest class to extract top 10 best features\n",
    "bestfeatures = SelectKBest(score_func=chi2, k=10)\n",
    "fit = bestfeatures.fit(X,y)\n",
    "dfscores = pd.DataFrame(fit.scores_)\n",
    "dfcolumns = pd.DataFrame(X.columns)\n",
    "\n",
    "#concat two dataframes for better visualization \n",
    "featureScores = pd.concat([dfcolumns,dfscores],axis=1)\n",
    "featureScores.columns = ['Specs','Score']  #naming the dataframe columns\n",
    "print(featureScores.nlargest(11,'Score'))  #print 10 best features"
   ]
  },
  {
   "cell_type": "code",
   "execution_count": 320,
   "metadata": {},
   "outputs": [
    {
     "data": {
      "text/html": [
       "<div>\n",
       "<style scoped>\n",
       "    .dataframe tbody tr th:only-of-type {\n",
       "        vertical-align: middle;\n",
       "    }\n",
       "\n",
       "    .dataframe tbody tr th {\n",
       "        vertical-align: top;\n",
       "    }\n",
       "\n",
       "    .dataframe thead th {\n",
       "        text-align: right;\n",
       "    }\n",
       "</style>\n",
       "<table border=\"1\" class=\"dataframe\">\n",
       "  <thead>\n",
       "    <tr style=\"text-align: right;\">\n",
       "      <th></th>\n",
       "      <th>Specs</th>\n",
       "      <th>Score</th>\n",
       "    </tr>\n",
       "  </thead>\n",
       "  <tbody>\n",
       "    <tr>\n",
       "      <th>9</th>\n",
       "      <td>sysBP</td>\n",
       "      <td>667.109932</td>\n",
       "    </tr>\n",
       "    <tr>\n",
       "      <th>13</th>\n",
       "      <td>glucose</td>\n",
       "      <td>402.409837</td>\n",
       "    </tr>\n",
       "    <tr>\n",
       "      <th>1</th>\n",
       "      <td>age</td>\n",
       "      <td>297.974980</td>\n",
       "    </tr>\n",
       "    <tr>\n",
       "      <th>8</th>\n",
       "      <td>totChol</td>\n",
       "      <td>252.958627</td>\n",
       "    </tr>\n",
       "    <tr>\n",
       "      <th>3</th>\n",
       "      <td>cigsPerDay</td>\n",
       "      <td>185.115196</td>\n",
       "    </tr>\n",
       "    <tr>\n",
       "      <th>10</th>\n",
       "      <td>diaBP</td>\n",
       "      <td>142.920436</td>\n",
       "    </tr>\n",
       "    <tr>\n",
       "      <th>6</th>\n",
       "      <td>prevalentHyp</td>\n",
       "      <td>82.342164</td>\n",
       "    </tr>\n",
       "    <tr>\n",
       "      <th>7</th>\n",
       "      <td>diabetes</td>\n",
       "      <td>31.711253</td>\n",
       "    </tr>\n",
       "    <tr>\n",
       "      <th>4</th>\n",
       "      <td>BPMeds</td>\n",
       "      <td>26.116583</td>\n",
       "    </tr>\n",
       "    <tr>\n",
       "      <th>0</th>\n",
       "      <td>male</td>\n",
       "      <td>19.178560</td>\n",
       "    </tr>\n",
       "    <tr>\n",
       "      <th>11</th>\n",
       "      <td>BMI</td>\n",
       "      <td>17.108210</td>\n",
       "    </tr>\n",
       "    <tr>\n",
       "      <th>5</th>\n",
       "      <td>prevalentStroke</td>\n",
       "      <td>8.480982</td>\n",
       "    </tr>\n",
       "    <tr>\n",
       "      <th>12</th>\n",
       "      <td>heartRate</td>\n",
       "      <td>3.635480</td>\n",
       "    </tr>\n",
       "    <tr>\n",
       "      <th>2</th>\n",
       "      <td>currentSmoker</td>\n",
       "      <td>0.904429</td>\n",
       "    </tr>\n",
       "  </tbody>\n",
       "</table>\n",
       "</div>"
      ],
      "text/plain": [
       "              Specs       Score\n",
       "9             sysBP  667.109932\n",
       "13          glucose  402.409837\n",
       "1               age  297.974980\n",
       "8           totChol  252.958627\n",
       "3        cigsPerDay  185.115196\n",
       "10            diaBP  142.920436\n",
       "6      prevalentHyp   82.342164\n",
       "7          diabetes   31.711253\n",
       "4            BPMeds   26.116583\n",
       "0              male   19.178560\n",
       "11              BMI   17.108210\n",
       "5   prevalentStroke    8.480982\n",
       "12        heartRate    3.635480\n",
       "2     currentSmoker    0.904429"
      ]
     },
     "execution_count": 320,
     "metadata": {},
     "output_type": "execute_result"
    }
   ],
   "source": [
    "featureScores = featureScores.sort_values(by='Score', ascending=False)\n",
    "featureScores"
   ]
  },
  {
   "cell_type": "code",
   "execution_count": 321,
   "metadata": {},
   "outputs": [
    {
     "data": {
      "image/png": "[encoded data removed]",
      "text/plain": [
       "<Figure size 1440x360 with 1 Axes>"
      ]
     },
     "metadata": {
      "needs_background": "light"
     },
     "output_type": "display_data"
    }
   ],
   "source": [
    "plt.figure(figsize=(20,5))\n",
    "sns.barplot(x='Specs', y='Score', data=featureScores, palette = \"GnBu_d\")\n",
    "plt.box(False)\n",
    "plt.title('Feature importance', fontsize=16)\n",
    "plt.xlabel('\\n Features', fontsize=14)\n",
    "plt.ylabel('Importance \\n', fontsize=14)\n",
    "plt.xticks(fontsize=12)\n",
    "plt.yticks(fontsize=12)\n",
    "plt.show()"
   ]
  },
  {
   "cell_type": "code",
   "execution_count": 322,
   "metadata": {},
   "outputs": [
    {
     "data": {
      "text/plain": [
       "['sysBP',\n",
       " 'glucose',\n",
       " 'age',\n",
       " 'totChol',\n",
       " 'cigsPerDay',\n",
       " 'diaBP',\n",
       " 'prevalentHyp',\n",
       " 'diabetes',\n",
       " 'BPMeds',\n",
       " 'male']"
      ]
     },
     "execution_count": 322,
     "metadata": {},
     "output_type": "execute_result"
    }
   ],
   "source": [
    "features_list = featureScores[\"Specs\"].tolist()[:10]\n",
    "features_list"
   ]
  },
  {
   "cell_type": "code",
   "execution_count": 332,
   "metadata": {},
   "outputs": [
    {
     "data": {
      "text/html": [
       "<div>\n",
       "<style scoped>\n",
       "    .dataframe tbody tr th:only-of-type {\n",
       "        vertical-align: middle;\n",
       "    }\n",
       "\n",
       "    .dataframe tbody tr th {\n",
       "        vertical-align: top;\n",
       "    }\n",
       "\n",
       "    .dataframe thead th {\n",
       "        text-align: right;\n",
       "    }\n",
       "</style>\n",
       "<table border=\"1\" class=\"dataframe\">\n",
       "  <thead>\n",
       "    <tr style=\"text-align: right;\">\n",
       "      <th></th>\n",
       "      <th>sysBP</th>\n",
       "      <th>glucose</th>\n",
       "      <th>age</th>\n",
       "      <th>totChol</th>\n",
       "      <th>cigsPerDay</th>\n",
       "      <th>diaBP</th>\n",
       "      <th>prevalentHyp</th>\n",
       "      <th>diabetes</th>\n",
       "      <th>BPMeds</th>\n",
       "      <th>male</th>\n",
       "      <th>TenYearCHD</th>\n",
       "    </tr>\n",
       "  </thead>\n",
       "  <tbody>\n",
       "    <tr>\n",
       "      <th>0</th>\n",
       "      <td>106.0</td>\n",
       "      <td>77.0</td>\n",
       "      <td>39</td>\n",
       "      <td>195.0</td>\n",
       "      <td>0.0</td>\n",
       "      <td>70.0</td>\n",
       "      <td>0</td>\n",
       "      <td>0</td>\n",
       "      <td>0.0</td>\n",
       "      <td>1</td>\n",
       "      <td>0</td>\n",
       "    </tr>\n",
       "    <tr>\n",
       "      <th>1</th>\n",
       "      <td>121.0</td>\n",
       "      <td>76.0</td>\n",
       "      <td>46</td>\n",
       "      <td>250.0</td>\n",
       "      <td>0.0</td>\n",
       "      <td>81.0</td>\n",
       "      <td>0</td>\n",
       "      <td>0</td>\n",
       "      <td>0.0</td>\n",
       "      <td>0</td>\n",
       "      <td>0</td>\n",
       "    </tr>\n",
       "    <tr>\n",
       "      <th>2</th>\n",
       "      <td>127.5</td>\n",
       "      <td>70.0</td>\n",
       "      <td>48</td>\n",
       "      <td>245.0</td>\n",
       "      <td>20.0</td>\n",
       "      <td>80.0</td>\n",
       "      <td>0</td>\n",
       "      <td>0</td>\n",
       "      <td>0.0</td>\n",
       "      <td>1</td>\n",
       "      <td>0</td>\n",
       "    </tr>\n",
       "    <tr>\n",
       "      <th>3</th>\n",
       "      <td>150.0</td>\n",
       "      <td>103.0</td>\n",
       "      <td>61</td>\n",
       "      <td>225.0</td>\n",
       "      <td>30.0</td>\n",
       "      <td>95.0</td>\n",
       "      <td>1</td>\n",
       "      <td>0</td>\n",
       "      <td>0.0</td>\n",
       "      <td>0</td>\n",
       "      <td>1</td>\n",
       "    </tr>\n",
       "    <tr>\n",
       "      <th>4</th>\n",
       "      <td>130.0</td>\n",
       "      <td>85.0</td>\n",
       "      <td>46</td>\n",
       "      <td>285.0</td>\n",
       "      <td>23.0</td>\n",
       "      <td>84.0</td>\n",
       "      <td>0</td>\n",
       "      <td>0</td>\n",
       "      <td>0.0</td>\n",
       "      <td>0</td>\n",
       "      <td>0</td>\n",
       "    </tr>\n",
       "  </tbody>\n",
       "</table>\n",
       "</div>"
      ],
      "text/plain": [
       "   sysBP  glucose  age  totChol  cigsPerDay  diaBP  prevalentHyp  diabetes  \\\n",
       "0  106.0     77.0   39    195.0         0.0   70.0             0         0   \n",
       "1  121.0     76.0   46    250.0         0.0   81.0             0         0   \n",
       "2  127.5     70.0   48    245.0        20.0   80.0             0         0   \n",
       "3  150.0    103.0   61    225.0        30.0   95.0             1         0   \n",
       "4  130.0     85.0   46    285.0        23.0   84.0             0         0   \n",
       "\n",
       "   BPMeds  male  TenYearCHD  \n",
       "0     0.0     1           0  \n",
       "1     0.0     0           0  \n",
       "2     0.0     1           0  \n",
       "3     0.0     0           1  \n",
       "4     0.0     0           0  "
      ]
     },
     "execution_count": 332,
     "metadata": {},
     "output_type": "execute_result"
    }
   ],
   "source": [
    "df = heart_df[['sysBP', 'glucose','age','totChol','cigsPerDay','diaBP','prevalentHyp','diabetes','BPMeds','male','TenYearCHD']]\n",
    "df.head()"
   ]
  },
  {
   "cell_type": "code",
   "execution_count": 333,
   "metadata": {
    "scrolled": true
   },
   "outputs": [
    {
     "data": {
      "image/png": "[encoded data removed]",
      "text/plain": [
       "<Figure size 432x288 with 2 Axes>"
      ]
     },
     "metadata": {
      "needs_background": "light"
     },
     "output_type": "display_data"
    }
   ],
   "source": [
    "df_corr = df.corr()\n",
    "sns.heatmap(df_corr,annot=True)\n",
    "plt.show()\n",
    "#df_corr"
   ]
  },
  {
   "cell_type": "code",
   "execution_count": 334,
   "metadata": {},
   "outputs": [],
   "source": [
    "# clarify what is y and what is x label\n",
    "y = df['TenYearCHD']\n",
    "X = df.drop(['TenYearCHD'], axis = 1)\n",
    "\n",
    "# divide train test: 80 % - 20 %\n",
    "x_train, x_test, y_train, y_test = train_test_split(X, y, test_size = 0.2, random_state=29)"
   ]
  },
  {
   "cell_type": "code",
   "execution_count": 335,
   "metadata": {},
   "outputs": [
    {
     "name": "stdout",
     "output_type": "stream",
     "text": [
      "-------------------------------------------------------\n",
      "Accuracy 0.8402130492676432\n",
      "-------------------------------------------------------\n",
      "              precision    recall  f1-score   support\n",
      "\n",
      "           0       0.84      1.00      0.91       625\n",
      "           1       1.00      0.05      0.09       126\n",
      "\n",
      "   micro avg       0.84      0.84      0.84       751\n",
      "   macro avg       0.92      0.52      0.50       751\n",
      "weighted avg       0.87      0.84      0.77       751\n",
      "\n",
      "-------------------------------------------------------\n",
      "Confusion Matrix\n",
      "[[625   0]\n",
      " [120   6]]\n",
      "-------------------------------------------------------\n",
      "Sensitivity 0.047619047619047616\n",
      "Specificity 1.0\n",
      "*******************************************************\n"
     ]
    }
   ],
   "source": [
    "log_reg=LogisticRegression()\n",
    "model_performance(log_reg,x_train,y_train,y_test)"
   ]
  },
  {
   "cell_type": "markdown",
   "metadata": {},
   "source": [
    "## 3.1 Scale the Features"
   ]
  },
  {
   "cell_type": "code",
   "execution_count": 342,
   "metadata": {},
   "outputs": [],
   "source": [
    "scaler = MinMaxScaler(feature_range=(0,1)) \n",
    "\n",
    "df_scaled = pd.DataFrame(scaler.fit_transform(df), columns=df.columns)"
   ]
  },
  {
   "cell_type": "code",
   "execution_count": 343,
   "metadata": {},
   "outputs": [],
   "source": [
    "# clarify what is y and what is x label\n",
    "y = df_scaled['TenYearCHD']\n",
    "X = df_scaled.drop(['TenYearCHD'], axis = 1)\n",
    "\n",
    "# divide train test: 80 % - 20 %\n",
    "x_train, x_test, y_train, y_test = train_test_split(X, y, test_size = 0.2, random_state=29)"
   ]
  },
  {
   "cell_type": "code",
   "execution_count": 344,
   "metadata": {},
   "outputs": [
    {
     "name": "stdout",
     "output_type": "stream",
     "text": [
      "-------------------------------------------------------\n",
      "Accuracy 0.8402130492676432\n",
      "-------------------------------------------------------\n",
      "              precision    recall  f1-score   support\n",
      "\n",
      "         0.0       0.84      1.00      0.91       625\n",
      "         1.0       1.00      0.05      0.09       126\n",
      "\n",
      "   micro avg       0.84      0.84      0.84       751\n",
      "   macro avg       0.92      0.52      0.50       751\n",
      "weighted avg       0.87      0.84      0.77       751\n",
      "\n",
      "-------------------------------------------------------\n",
      "Confusion Matrix\n",
      "[[625   0]\n",
      " [120   6]]\n",
      "-------------------------------------------------------\n",
      "Sensitivity 0.047619047619047616\n",
      "Specificity 1.0\n",
      "*******************************************************\n"
     ]
    }
   ],
   "source": [
    "log_reg=LogisticRegression()\n",
    "model_performance(log_reg,x_train,y_train,x_test,y_test)"
   ]
  },
  {
   "cell_type": "markdown",
   "metadata": {},
   "source": [
    "## 3.1.1 Scale & Handle Imbalance"
   ]
  },
  {
   "cell_type": "code",
   "execution_count": 345,
   "metadata": {},
   "outputs": [
    {
     "data": {
      "text/plain": [
       "0.0    611\n",
       "1.0    572\n",
       "Name: TenYearCHD, dtype: int64"
      ]
     },
     "execution_count": 345,
     "metadata": {},
     "output_type": "execute_result"
    }
   ],
   "source": [
    "shuffled_df = df_scaled.sample(frac=1,random_state=4)\n",
    "\n",
    "# Put all the fraud class in a separate dataset.\n",
    "CHD_df = shuffled_df.loc[shuffled_df['TenYearCHD'] == 1]\n",
    "\n",
    "#Randomly select 492 observations from the non-fraud (majority class)\n",
    "non_CHD_df = shuffled_df.loc[shuffled_df['TenYearCHD'] == 0].sample(n=611,random_state=42)\n",
    "\n",
    "# Concatenate both dataframes again\n",
    "normalized_df = pd.concat([CHD_df, non_CHD_df])\n",
    "\n",
    "# check new class counts\n",
    "normalized_df.TenYearCHD.value_counts()"
   ]
  },
  {
   "cell_type": "code",
   "execution_count": 346,
   "metadata": {},
   "outputs": [],
   "source": [
    "y_train = normalized_df['TenYearCHD']\n",
    "x_train = normalized_df.drop('TenYearCHD', axis=1)"
   ]
  },
  {
   "cell_type": "code",
   "execution_count": 347,
   "metadata": {},
   "outputs": [
    {
     "name": "stdout",
     "output_type": "stream",
     "text": [
      "-------------------------------------------------------\n",
      "Accuracy 0.6870838881491345\n",
      "-------------------------------------------------------\n",
      "              precision    recall  f1-score   support\n",
      "\n",
      "         0.0       0.91      0.69      0.79       625\n",
      "         1.0       0.30      0.67      0.42       126\n",
      "\n",
      "   micro avg       0.69      0.69      0.69       751\n",
      "   macro avg       0.61      0.68      0.60       751\n",
      "weighted avg       0.81      0.69      0.72       751\n",
      "\n",
      "-------------------------------------------------------\n",
      "Confusion Matrix\n",
      "[[432 193]\n",
      " [ 42  84]]\n",
      "-------------------------------------------------------\n",
      "Sensitivity 0.6666666666666666\n",
      "Specificity 0.6912\n",
      "*******************************************************\n"
     ]
    }
   ],
   "source": [
    "log_reg=LogisticRegression()\n",
    "model_performance(log_reg,x_train,y_train,y_test)"
   ]
  },
  {
   "cell_type": "markdown",
   "metadata": {},
   "source": [
    "## 3.1.2 Try Different Solvers"
   ]
  },
  {
   "cell_type": "code",
   "execution_count": 350,
   "metadata": {
    "scrolled": false
   },
   "outputs": [
    {
     "name": "stdout",
     "output_type": "stream",
     "text": [
      "\n",
      "+++++++++ Solver newton-cg +++++++++\n",
      "-------------------------------------------------------\n",
      "Accuracy 0.6857523302263648\n",
      "-------------------------------------------------------\n",
      "              precision    recall  f1-score   support\n",
      "\n",
      "         0.0       0.91      0.69      0.79       625\n",
      "         1.0       0.30      0.65      0.41       126\n",
      "\n",
      "   micro avg       0.69      0.69      0.69       751\n",
      "   macro avg       0.60      0.67      0.60       751\n",
      "weighted avg       0.81      0.69      0.72       751\n",
      "\n",
      "-------------------------------------------------------\n",
      "Confusion Matrix\n",
      "[[433 192]\n",
      " [ 44  82]]\n",
      "-------------------------------------------------------\n",
      "Sensitivity 0.6507936507936508\n",
      "Specificity 0.6928\n",
      "*******************************************************\n",
      "\n",
      "+++++++++ Solver lbfgs +++++++++\n",
      "-------------------------------------------------------\n",
      "Accuracy 0.6857523302263648\n",
      "-------------------------------------------------------\n",
      "              precision    recall  f1-score   support\n",
      "\n",
      "         0.0       0.91      0.69      0.79       625\n",
      "         1.0       0.30      0.65      0.41       126\n",
      "\n",
      "   micro avg       0.69      0.69      0.69       751\n",
      "   macro avg       0.60      0.67      0.60       751\n",
      "weighted avg       0.81      0.69      0.72       751\n",
      "\n",
      "-------------------------------------------------------\n",
      "Confusion Matrix\n",
      "[[433 192]\n",
      " [ 44  82]]\n",
      "-------------------------------------------------------\n",
      "Sensitivity 0.6507936507936508\n",
      "Specificity 0.6928\n",
      "*******************************************************\n",
      "\n",
      "+++++++++ Solver liblinear +++++++++\n",
      "-------------------------------------------------------\n",
      "Accuracy 0.6870838881491345\n",
      "-------------------------------------------------------\n",
      "              precision    recall  f1-score   support\n",
      "\n",
      "         0.0       0.91      0.69      0.79       625\n",
      "         1.0       0.30      0.67      0.42       126\n",
      "\n",
      "   micro avg       0.69      0.69      0.69       751\n",
      "   macro avg       0.61      0.68      0.60       751\n",
      "weighted avg       0.81      0.69      0.72       751\n",
      "\n",
      "-------------------------------------------------------\n",
      "Confusion Matrix\n",
      "[[432 193]\n",
      " [ 42  84]]\n",
      "-------------------------------------------------------\n",
      "Sensitivity 0.6666666666666666\n",
      "Specificity 0.6912\n",
      "*******************************************************\n",
      "\n",
      "+++++++++ Solver sag +++++++++\n",
      "-------------------------------------------------------\n",
      "Accuracy 0.6857523302263648\n",
      "-------------------------------------------------------\n",
      "              precision    recall  f1-score   support\n",
      "\n",
      "         0.0       0.91      0.69      0.79       625\n",
      "         1.0       0.30      0.65      0.41       126\n",
      "\n",
      "   micro avg       0.69      0.69      0.69       751\n",
      "   macro avg       0.60      0.67      0.60       751\n",
      "weighted avg       0.81      0.69      0.72       751\n",
      "\n",
      "-------------------------------------------------------\n",
      "Confusion Matrix\n",
      "[[433 192]\n",
      " [ 44  82]]\n",
      "-------------------------------------------------------\n",
      "Sensitivity 0.6507936507936508\n",
      "Specificity 0.6928\n",
      "*******************************************************\n",
      "\n",
      "+++++++++ Solver saga +++++++++\n",
      "-------------------------------------------------------\n",
      "Accuracy 0.6857523302263648\n",
      "-------------------------------------------------------\n",
      "              precision    recall  f1-score   support\n",
      "\n",
      "         0.0       0.91      0.69      0.79       625\n",
      "         1.0       0.30      0.65      0.41       126\n",
      "\n",
      "   micro avg       0.69      0.69      0.69       751\n",
      "   macro avg       0.60      0.67      0.60       751\n",
      "weighted avg       0.81      0.69      0.72       751\n",
      "\n",
      "-------------------------------------------------------\n",
      "Confusion Matrix\n",
      "[[433 192]\n",
      " [ 44  82]]\n",
      "-------------------------------------------------------\n",
      "Sensitivity 0.6507936507936508\n",
      "Specificity 0.6928\n",
      "*******************************************************\n"
     ]
    }
   ],
   "source": [
    "solvers=['newton-cg','lbfgs','liblinear','sag','saga']\n",
    "for s in solvers:\n",
    "    print()\n",
    "    print(f\"+++++++++ Solver {s} +++++++++\")\n",
    "    log_reg=LogisticRegression(solver=s)\n",
    "    model_performance(log_reg,x_train,y_train,x_test,y_test)"
   ]
  },
  {
   "cell_type": "code",
   "execution_count": null,
   "metadata": {},
   "outputs": [],
   "source": []
  },
  {
   "cell_type": "code",
   "execution_count": null,
   "metadata": {},
   "outputs": [],
   "source": []
  },
  {
   "cell_type": "markdown",
   "metadata": {},
   "source": [
    "Ref:<br>\n",
    "https://www.kaggle.com/neisha/heart-disease-prediction-using-logistic-regression <br>\n",
    "https://www.kaggle.com/minnieliang/heart-disease-prediction-logistic-regression <br>\n",
    "https://www.kaggle.com/lauriandwu/machine-learning-heart-disease-framingham"
   ]
  },
  {
   "cell_type": "code",
   "execution_count": null,
   "metadata": {},
   "outputs": [],
   "source": []
  },
  {
   "cell_type": "code",
   "execution_count": null,
   "metadata": {},
   "outputs": [],
   "source": []
  },
  {
   "cell_type": "code",
   "execution_count": null,
   "metadata": {},
   "outputs": [],
   "source": []
  }
 ],
 "metadata": {
  "kernelspec": {
   "display_name": "Python 3",
   "language": "python",
   "name": "python3"
  },
  "language_info": {
   "codemirror_mode": {
    "name": "ipython",
    "version": 3
   },
   "file_extension": ".py",
   "mimetype": "text/x-python",
   "name": "python",
   "nbconvert_exporter": "python",
   "pygments_lexer": "ipython3",
   "version": "3.7.3"
  }
 },
 "nbformat": 4,
 "nbformat_minor": 2
}
